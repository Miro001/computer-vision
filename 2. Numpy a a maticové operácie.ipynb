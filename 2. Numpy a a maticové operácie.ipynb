{
 "cells": [
  {
   "cell_type": "markdown",
   "metadata": {},
   "source": [
    "# 2. Numpy a a maticové operácie"
   ]
  },
  {
   "cell_type": "code",
   "execution_count": 1,
   "metadata": {},
   "outputs": [],
   "source": [
    "import numpy as np\n",
    "import math"
   ]
  },
  {
   "cell_type": "markdown",
   "metadata": {},
   "source": [
    "Na vytvorenie matice v Pythone použijeme knižnicu numpy."
   ]
  },
  {
   "cell_type": "code",
   "execution_count": 2,
   "metadata": {},
   "outputs": [
    {
     "name": "stdout",
     "output_type": "stream",
     "text": [
      "Matrix/ Matica: \n",
      " [[1 2]\n",
      " [3 4]]\n"
     ]
    }
   ],
   "source": [
    "A = np.array([[1, 2], [3, 4]])\n",
    "print(\"Matrix/ Matica: \\n\", A)"
   ]
  },
  {
   "cell_type": "code",
   "execution_count": 5,
   "metadata": {},
   "outputs": [
    {
     "name": "stdout",
     "output_type": "stream",
     "text": [
      "Row vector / Riadkovy vektor:  [1 2 3 4]\n"
     ]
    }
   ],
   "source": [
    "v_row = np.array([1, 2, 3, 4])\n",
    "print(\"Row vector / Riadkovy vektor: \", v_row)"
   ]
  },
  {
   "cell_type": "markdown",
   "metadata": {},
   "source": [
    "Stĺpcovy vektor dostaneme jednoduchou úpravou (transpose) riadkového vektora. "
   ]
  },
  {
   "cell_type": "code",
   "execution_count": 6,
   "metadata": {},
   "outputs": [
    {
     "name": "stdout",
     "output_type": "stream",
     "text": [
      "Column vector / Stlpcovy vektor:  [[1]\n",
      " [2]\n",
      " [3]\n",
      " [4]]\n"
     ]
    }
   ],
   "source": [
    "v_column = np.array([[1, 2, 3, 4]]).T\n",
    "print(\"Column vector / Stlpcovy vektor: \", v_column)"
   ]
  },
  {
   "cell_type": "code",
   "execution_count": 7,
   "metadata": {},
   "outputs": [
    {
     "name": "stdout",
     "output_type": "stream",
     "text": [
      "Transpose / Transponuje sa cez atribut T (Vymena riadkov a stlpcov):  [[1 2 3 4]]\n"
     ]
    }
   ],
   "source": [
    "trans_2_v_row = v_column.T\n",
    "print(\"Transpose / Transponuje sa cez atribut T (Vymena riadkov a stlpcov): \", trans_2_v_row)"
   ]
  },
  {
   "cell_type": "code",
   "execution_count": 8,
   "metadata": {},
   "outputs": [
    {
     "name": "stdout",
     "output_type": "stream",
     "text": [
      "Linearly spaced vector / Vektor s linearnym rastom: [0. 1. 2. 3. 4. 5. 6. 7. 8. 9.]\n"
     ]
    }
   ],
   "source": [
    "lin_spaced_vector = np.linspace(0, 9, 10)\n",
    "print(\"Linearly spaced vector / Vektor s linearnym rastom:\", lin_spaced_vector)"
   ]
  },
  {
   "cell_type": "code",
   "execution_count": 9,
   "metadata": {},
   "outputs": [
    {
     "name": "stdout",
     "output_type": "stream",
     "text": [
      "Empty vector / Prazdny vector:  []\n"
     ]
    }
   ],
   "source": [
    "v_empty = np.array([])\n",
    "print(\"Empty vector / Prazdny vector: \", v_empty)"
   ]
  },
  {
   "cell_type": "markdown",
   "metadata": {},
   "source": [
    "# Specific types of initialization:"
   ]
  },
  {
   "cell_type": "code",
   "execution_count": 13,
   "metadata": {},
   "outputs": [
    {
     "name": "stdout",
     "output_type": "stream",
     "text": [
      "[[0. 0. 0.]\n",
      " [0. 0. 0.]\n",
      " [0. 0. 0.]]\n"
     ]
    }
   ],
   "source": [
    "mat_zeros = np.zeros((3, 3))  # tuple as input param\n",
    "print(mat_zeros)"
   ]
  },
  {
   "cell_type": "code",
   "execution_count": 14,
   "metadata": {},
   "outputs": [
    {
     "name": "stdout",
     "output_type": "stream",
     "text": [
      "Ones matrix: \n",
      " [[[1. 1.]\n",
      "  [1. 1.]\n",
      "  [1. 1.]]\n",
      "\n",
      " [[1. 1.]\n",
      "  [1. 1.]\n",
      "  [1. 1.]]]\n"
     ]
    }
   ],
   "source": [
    "mat_ones = np.ones((2, 3, 2))\n",
    "print(\"Ones matrix: \\n\", mat_ones)"
   ]
  },
  {
   "cell_type": "code",
   "execution_count": 15,
   "metadata": {},
   "outputs": [
    {
     "name": "stdout",
     "output_type": "stream",
     "text": [
      "Diagional matrix / Diagonalna matica:\n",
      " [[1. 0. 0.]\n",
      " [0. 1. 0.]\n",
      " [0. 0. 1.]]\n"
     ]
    }
   ],
   "source": [
    "mat_eye = np.eye(3)\n",
    "print(\"Diagional matrix / Diagonalna matica:\\n\", mat_eye)"
   ]
  },
  {
   "cell_type": "code",
   "execution_count": 16,
   "metadata": {},
   "outputs": [
    {
     "name": "stdout",
     "output_type": "stream",
     "text": [
      "Random matrix / Matica nahodnych cisel:\n",
      " [[0.08734978 0.23042717 0.24487559]\n",
      " [0.6776393  0.50266768 0.01242037]]\n"
     ]
    }
   ],
   "source": [
    "mat_rand = np.random.rand(2, 3)\n",
    "print(\"Random matrix / Matica nahodnych cisel:\\n\", mat_rand)"
   ]
  },
  {
   "cell_type": "code",
   "execution_count": 17,
   "metadata": {},
   "outputs": [
    {
     "name": "stdout",
     "output_type": "stream",
     "text": [
      "Third element of the vector / Treti prvok vektora:  1\n"
     ]
    }
   ],
   "source": [
    "vec = np.array([3, 2, 1])\n",
    "print(\"Third element of the vector / Treti prvok vektora: \", vec[2])"
   ]
  },
  {
   "cell_type": "markdown",
   "metadata": {},
   "source": [
    "# Pristup k matici:"
   ]
  },
  {
   "cell_type": "code",
   "execution_count": 19,
   "metadata": {},
   "outputs": [
    {
     "name": "stdout",
     "output_type": "stream",
     "text": [
      "Acessing matrix / Pristup k matici\n"
     ]
    }
   ],
   "source": [
    "mat = np.array([[1, 2, 3], [4, 5, 6], [7, 8, 9]])\n",
    "print(\"Acessing matrix / Pristup k matici\")"
   ]
  },
  {
   "cell_type": "code",
   "execution_count": 58,
   "metadata": {},
   "outputs": [
    {
     "name": "stdout",
     "output_type": "stream",
     "text": [
      "Accessing  element at (2,3) / Pristup k elementu (2,3) 6\n",
      "Accesing different elements through sequences:/ Dynamicky pristup k elementom matic\n",
      "[1 2 3]\n",
      "\n",
      "[4 5 6]\n",
      "\n",
      "[[5 6]]\n",
      "\n",
      "[[5 6]]\n",
      "\n",
      "[[1 2 3]\n",
      " [4 5 6]]\n"
     ]
    }
   ],
   "source": [
    "print(\"Accessing  element at (2,3) / Pristup k elementu (2,3)\", mat[1][2])\n",
    "print(\"Accesing different elements through sequences:/ Dynamicky pristup k elementom matic\")\n",
    "print(mat[0][:])  # vrati prvy riadok ako riadkovy vektor\n",
    "print(\"\")\n",
    "print(mat[:][1])  # vrati druhy stlpec ako riadkovy vektor !!!\n",
    "print(\"\")\n",
    "print(mat[1:3, 1:3])  # submatica zacinajuca na 2,2\n",
    "print(\"\")\n",
    "print(mat[1:, 1:])  # (2,2) + till end\n",
    "print(\"\")\n",
    "print(mat[:3, :3])  # od [] -> to index [3 3]"
   ]
  },
  {
   "cell_type": "code",
   "execution_count": 21,
   "metadata": {},
   "outputs": [
    {
     "name": "stdout",
     "output_type": "stream",
     "text": [
      "Shape of the matrix/ Rozmery matice:  (3, 3)\n",
      "Shape of the matrix/ Rozmery matice:  3\n",
      "Shape of the matrix/ Rozmery matice:  3\n"
     ]
    }
   ],
   "source": [
    "print(\"Shape of the matrix/ Rozmery matice: \", mat.shape)\n",
    "print(\"Shape of the matrix/ Rozmery matice: \", mat.shape[0])\n",
    "print(\"Shape of the matrix/ Rozmery matice: \", mat.shape[1])"
   ]
  },
  {
   "cell_type": "code",
   "execution_count": 22,
   "metadata": {},
   "outputs": [],
   "source": [
    "# Jednoduché operácie s vektormi a maticam:"
   ]
  },
  {
   "cell_type": "code",
   "execution_count": 45,
   "metadata": {},
   "outputs": [
    {
     "name": "stdout",
     "output_type": "stream",
     "text": [
      "[[2]\n",
      " [4]\n",
      " [6]\n",
      " [8]]\n",
      "\n",
      "[[0.5]\n",
      " [1. ]\n",
      " [1.5]\n",
      " [2. ]]\n",
      "\n",
      "[[ 1]\n",
      " [ 8]\n",
      " [27]\n",
      " [64]]\n"
     ]
    }
   ],
   "source": [
    "vec_a = np.array([[1, 2, 3, 4]]).T\n",
    "print(2 * vec_a)\n",
    "print(\"\")\n",
    "print(vec_a / 2)\n",
    "print(\"\")\n",
    "print(vec_a ** 3)"
   ]
  },
  {
   "cell_type": "code",
   "execution_count": 24,
   "metadata": {},
   "outputs": [],
   "source": [
    "vec_b = np.array([[1, 2, 3, 4]]).T"
   ]
  },
  {
   "cell_type": "code",
   "execution_count": 46,
   "metadata": {},
   "outputs": [
    {
     "name": "stdout",
     "output_type": "stream",
     "text": [
      "[[ 4  5  6]\n",
      " [ 8 10 12]\n",
      " [12 15 18]\n",
      " [16 20 24]]\n",
      "\n",
      "[[0.25       0.2        0.16666667]\n",
      " [0.5        0.4        0.33333333]\n",
      " [0.75       0.6        0.5       ]\n",
      " [1.         0.8        0.66666667]]\n",
      "\n",
      "[[-3 -4 -5]\n",
      " [-2 -3 -4]\n",
      " [-1 -2 -3]\n",
      " [ 0 -1 -2]]\n",
      "\n",
      "[[0.        ]\n",
      " [0.69314718]\n",
      " [1.09861229]\n",
      " [1.38629436]]\n",
      "\n",
      "[[0.]\n",
      " [1.]\n",
      " [1.]\n",
      " [1.]]\n"
     ]
    }
   ],
   "source": [
    "print(vec_a * vec_b)\n",
    "print(\"\")\n",
    "print(vec_a / vec_b)\n",
    "print(\"\")\n",
    "print(vec_a - vec_b)\n",
    "print(\"\")\n",
    "print(np.log(vec_a))\n",
    "print(\"\")\n",
    "print(np.round(np.log(vec_a)))"
   ]
  },
  {
   "cell_type": "markdown",
   "metadata": {},
   "source": [
    " # Skalarne operacie na vektore -> vystup je skalar:"
   ]
  },
  {
   "cell_type": "code",
   "execution_count": 47,
   "metadata": {},
   "outputs": [
    {
     "name": "stdout",
     "output_type": "stream",
     "text": [
      "10\n",
      "\n",
      "2.5\n",
      "\n",
      "1.25\n",
      "\n",
      "1.118033988749895\n",
      "\n",
      "1 4\n"
     ]
    }
   ],
   "source": [
    "print(np.sum(vec_a))\n",
    "print(\"\")\n",
    "print(np.mean(vec_a))\n",
    "print(\"\")\n",
    "print(np.var(vec_a))\n",
    "print(\"\")\n",
    "print(np.std(vec_a))\n",
    "print(\"\")\n",
    "print(np.min(vec_a), np.max(vec_a))"
   ]
  },
  {
   "cell_type": "markdown",
   "metadata": {},
   "source": [
    "# Operacie na matici -> vystup je vektor:"
   ]
  },
  {
   "cell_type": "code",
   "execution_count": 69,
   "metadata": {},
   "outputs": [
    {
     "name": "stdout",
     "output_type": "stream",
     "text": [
      "[2.5 3.5 4.5]\n",
      "Max of mat along axis 0:  [4 5 6]\n",
      "Max of mat alojng axis 1:  [3 6]\n",
      "6\n",
      "[ 4 10 18]\n",
      "[ 4 10 18]\n",
      "[ 4 10 18]\n",
      "32\n"
     ]
    }
   ],
   "source": [
    "mat = np.array([[1, 2, 3], [4, 5, 6]])\n",
    "print(np.mean(mat, 0))\n",
    "print(\"Max of mat along axis 0: \", np.max(mat, 0))\n",
    "print(\"Max of mat alojng axis 1: \", np.max(mat, 1))\n",
    "print(np.max(mat))\n",
    "print(mat[0] * mat[1])  # elementwise\n",
    "print(mat[0].T * mat[1])    # vektorovy sucin\n",
    "print(mat[0] * mat[1].T)  # vektorovy sucin\n",
    "print(mat[0].T @ mat[1])  # skalarny sucin"
   ]
  },
  {
   "cell_type": "markdown",
   "metadata": {},
   "source": [
    "# Operacie na matici:"
   ]
  },
  {
   "cell_type": "code",
   "execution_count": 55,
   "metadata": {},
   "outputs": [
    {
     "name": "stdout",
     "output_type": "stream",
     "text": [
      "[[0.13719749 0.43364034 1.02368693 0.23619351]\n",
      " [0.08422505 0.28631881 0.58398595 0.12513608]\n",
      " [0.0751601  0.22568294 0.58705273 0.14112276]]\n"
     ]
    }
   ],
   "source": [
    "mat_1 = np.random.rand(3, 2)\n",
    "mat_2 = np.random.rand(2, 4)\n",
    "vec_1 = np.array([[1, 2, 3]]).T\n",
    "vec_2 = np.array([1, 2])\n",
    "print(np.matmul(mat_1, mat_2))"
   ]
  },
  {
   "cell_type": "code",
   "execution_count": 32,
   "metadata": {},
   "outputs": [
    {
     "name": "stdout",
     "output_type": "stream",
     "text": [
      "[[5.0767014 3.5976351]]\n",
      "[2.0338973  1.05757507 2.70764139]\n"
     ]
    }
   ],
   "source": [
    "print(np.matmul(vec_1.T, mat_1)) # 1x3 * 3x2 = 1x2\n",
    "print(np.matmul(mat_1, vec_2)) # 3x2 * 2x1 = 3x1"
   ]
  },
  {
   "cell_type": "code",
   "execution_count": 33,
   "metadata": {},
   "outputs": [
    {
     "name": "stdout",
     "output_type": "stream",
     "text": [
      "Inverse matrix: \n",
      " [[ -6.1196731   -1.05866526   4.99101161]\n",
      " [ -1.26162257  -1.51242049   2.35533199]\n",
      " [ 13.45026217   5.96535816 -11.017798  ]]\n"
     ]
    }
   ],
   "source": [
    "print(\"Inverse matrix: \\n\", np.linalg.inv(np.random.rand(3, 3)))"
   ]
  },
  {
   "cell_type": "code",
   "execution_count": 34,
   "metadata": {},
   "outputs": [
    {
     "name": "stdout",
     "output_type": "stream",
     "text": [
      "Eigen values: \n",
      " [ 0.99111067  0.35678349 -0.15870386]\n"
     ]
    }
   ],
   "source": [
    "print(\"Eigen values: \\n\", np.linalg.eigvals(np.random.rand(3, 3)))"
   ]
  },
  {
   "cell_type": "markdown",
   "metadata": {},
   "source": [
    "# Linearna algebra:"
   ]
  },
  {
   "cell_type": "code",
   "execution_count": 37,
   "metadata": {},
   "outputs": [
    {
     "name": "stdout",
     "output_type": "stream",
     "text": [
      "Eigen values: \n",
      " [ 1.14956327  0.19471947 -0.37881051] \n",
      " Eigen matrix\n",
      " [[-0.18940084 -0.44777338  0.35604689]\n",
      " [-0.66885163 -0.57436542 -0.89060718]\n",
      " [-0.71886356  0.68527612  0.28293013]]\n"
     ]
    }
   ],
   "source": [
    "V, D = np.linalg.eig(np.random.rand(3, 3))\n",
    "print(\"Eigen values: \\n\",V,\"\\n Eigen matrix\\n\",D)"
   ]
  },
  {
   "cell_type": "code",
   "execution_count": 38,
   "metadata": {},
   "outputs": [
    {
     "name": "stdout",
     "output_type": "stream",
     "text": [
      "SVD single value decomposition: \n",
      " [[-0.30632573  0.42381257 -0.85237753]\n",
      " [-0.73596161 -0.67336191 -0.0703154 ]\n",
      " [-0.60375911  0.60577772  0.51817786]] \n",
      " Eigen matrix\n",
      " [1.3162127  0.31975246 0.08358809] \n",
      " Eigen matrix\n",
      " [[-0.26796134 -0.92365469 -0.27396849]\n",
      " [ 0.63446556  0.04481734 -0.77165074]\n",
      " [-0.72501736  0.38059614 -0.57401777]]\n"
     ]
    }
   ],
   "source": [
    "U, S, V = np.linalg.svd(np.random.rand(3, 3))\n",
    "print(\"SVD single value decomposition: \\n\", U,\"\\n Eigen matrix\\n\",S,\"\\n Eigen matrix\\n\",V) # a = U * S * V'"
   ]
  },
  {
   "cell_type": "code",
   "execution_count": null,
   "metadata": {},
   "outputs": [],
   "source": [
    "B = np.random.rand(4, 4)\n",
    "np.linalg.det(B)\n",
    "np.sum(B)\n",
    "print(B.reshape((8,2)))\n",
    "vec_a = np.array([[1, 2, 3]])\n",
    "vec_b = np.array([[4, 5, 6]])"
   ]
  },
  {
   "cell_type": "code",
   "execution_count": null,
   "metadata": {},
   "outputs": [],
   "source": [
    "vec_c = np.concatenate((vec_a, vec_b), 0)\n",
    "print(vec_c)"
   ]
  },
  {
   "cell_type": "code",
   "execution_count": 41,
   "metadata": {},
   "outputs": [
    {
     "name": "stdout",
     "output_type": "stream",
     "text": [
      "[[1 2 3]\n",
      " [4 5 6]]\n"
     ]
    }
   ],
   "source": [
    "vec_c = np.array((vec_a, vec_b))\n",
    "vec_c = np.squeeze(vec_c)\n",
    "print(vec_c)"
   ]
  },
  {
   "cell_type": "code",
   "execution_count": 42,
   "metadata": {},
   "outputs": [
    {
     "name": "stdout",
     "output_type": "stream",
     "text": [
      "[[1 2]\n",
      " [1 2]\n",
      " [3 4]\n",
      " [3 4]]\n",
      "[0.09177902 0.92564961 0.49698464 0.56559653]\n"
     ]
    }
   ],
   "source": [
    "print(np.repeat(A, 2,axis=0))\n",
    "print(np.diag(B))"
   ]
  },
  {
   "cell_type": "code",
   "execution_count": null,
   "metadata": {},
   "outputs": [],
   "source": []
  }
 ],
 "metadata": {
  "kernelspec": {
   "display_name": "Python 3",
   "language": "python",
   "name": "python3"
  },
  "language_info": {
   "codemirror_mode": {
    "name": "ipython",
    "version": 3
   },
   "file_extension": ".py",
   "mimetype": "text/x-python",
   "name": "python",
   "nbconvert_exporter": "python",
   "pygments_lexer": "ipython3",
   "version": "3.8.5"
  }
 },
 "nbformat": 4,
 "nbformat_minor": 4
}
